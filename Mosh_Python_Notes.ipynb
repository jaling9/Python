{
 "cells": [
  {
   "cell_type": "markdown",
   "metadata": {},
   "source": [
    "# MOSH_Python笔记"
   ]
  },
  {
   "cell_type": "markdown",
   "metadata": {},
   "source": [
    " 00:00:00  Introduction\\\n",
    " 00:01:49  Installing Python 3\\\n",
    " 00:06:10  Your First Python Program\\\n",
    " 00:08:11  How Python Code Gets Executed执行"
   ]
  },
  {
   "cell_type": "code",
   "execution_count": null,
   "metadata": {},
   "outputs": [],
   "source": [
    "print(\"Marsh\")\n",
    "# 第一课 python是怎么执行的？ python是逐行执行的。\n",
    "print('o----')\n",
    "print('||||')\n",
    "print('*' * 10) # (‘*' * 10) 称为表达式，表达式是一个片段，产生值的代码。"
   ]
  },
  {
   "cell_type": "code",
   "execution_count": null,
   "metadata": {},
   "outputs": [],
   "source": [
    "# 练习 画一个圆或者一颗爱心\n",
    "print('      -      ')\n",
    "print(' -         - ')\n",
    "print('      -      ')"
   ]
  },
  {
   "cell_type": "markdown",
   "metadata": {},
   "source": [
    "00:11:24  How Long It Takes To Learn Python \\\n",
    "00:13:03  Variables变量"
   ]
  },
  {
   "cell_type": "code",
   "execution_count": null,
   "metadata": {},
   "outputs": [],
   "source": [
    "# variables 将数据临时储存在计算机内存中。\n",
    "price = 10 # 价格就是变量。定义好变量后将其存储在内存中随时调用。\n",
    "price = 20 # 因为逐行执行，第二行会代替第一行输出 20\n",
    "print(price)\n",
    "\n",
    "price = 10\n",
    "rating = 4.9 # 浮点数，几种数据类型之一，通用。\n",
    "name = 'Marsh' # 字符串。数据类型之一。\n",
    "is_published = False # 布尔值.另外，python是一种对大小写非常敏感的语言。\n",
    "\n",
    "# 练习，为一家医院编写一个程序。\n",
    "# 为一个叫约翰史密斯的病人定义三个变量，名字年龄，是否是新病人。\n",
    "full_name = 'John Smith'\n",
    "age = 20\n",
    "is_new = True"
   ]
  },
  {
   "cell_type": "markdown",
   "metadata": {},
   "source": [
    "00:18:21  Receiving Input"
   ]
  },
  {
   "cell_type": "code",
   "execution_count": null,
   "metadata": {},
   "outputs": [],
   "source": [
    "# 接收输入\n",
    "name = input('what is your name? ')\n",
    "print('hi ' + name) # 注意问号和hi后面的空格，否则输出的hi和名字紧紧挨着。\n",
    "\n",
    "#练习\n",
    "name = input('what is your name?')\n",
    "favorite_color = input('what is your favorite color?')\n",
    "print(name + ' like ' + favorite_color)"
   ]
  },
  {
   "cell_type": "markdown",
   "metadata": {},
   "source": [
    "00:22:16  Python Cheat Sheet"
   ]
  },
  {
   "cell_type": "markdown",
   "metadata": {},
   "source": [
    "00:22:46  Type Conversion转换"
   ]
  },
  {
   "cell_type": "code",
   "execution_count": null,
   "metadata": {},
   "outputs": [],
   "source": [
    "# 类型转换\n",
    "# 输入生日，计算年龄并打印出来\n",
    "int() # 转换为整数\n",
    "float() # 转换为浮点数\n",
    "bool() # 转换为布尔值\n",
    "\n",
    "birth_year = input('birth year: ')\n",
    "print(type(birth_year))\n",
    "age = 2022 - int(birth_year) # 整数和字符串无法进行运算，需要将其转换为整数\n",
    "print(type(age)) # type函数返回变量类型\n",
    "print(age)\n",
    "\n",
    "# 练习 写一个程序询问用户体重，然后转化为公斤并打印出来\n",
    "weight_lbs = input('weight (lbs): ' )\n",
    "weight_kg = int(weight_lbs) * 0.45 # 不能用字符串和浮点数相乘,需要转换\n",
    "print(weight_kg)"
   ]
  },
  {
   "cell_type": "markdown",
   "metadata": {},
   "source": [
    "00:29:31  Strings"
   ]
  },
  {
   "cell_type": "code",
   "execution_count": null,
   "metadata": {},
   "outputs": [],
   "source": [
    "# 字符串\n",
    "# course = \"python's for beginners\"\n",
    "# course = 'python for \"beginners\"'\n",
    "# 上面两种情况需要注意单引号和双引号的区别\n",
    "# 还有三引号运用在邮件中\n",
    "\n",
    "course = 'python for beginners'\n",
    "print(course[0]) # 正则表达式，取索引为0的数值。如果改成-1，则结果为s。\n",
    "print(course[-2]) #返回倒数第二个字符\n",
    "print(course[0:3]) # 返回从第一个字符开始，到索引为3但不包括3的字符串\n",
    "print(course[0:]) # 返回所有字符\n",
    "print(course[1:]) # 返回除第一个字符外所有字符\n",
    "print(course[5:9])\n",
    "another = course[:] # 复制一个变量\n",
    "print(another)\n",
    "\n",
    "# 练习 思考以下代码返回的字符串是什么？\n",
    "name = 'jennifer'\n",
    "print(name[1:-1])\n",
    "# 应该是ennife"
   ]
  },
  {
   "cell_type": "markdown",
   "metadata": {},
   "source": [
    "00:37:36  Formatted Strings格式化字符串"
   ]
  },
  {
   "cell_type": "code",
   "execution_count": null,
   "metadata": {},
   "outputs": [],
   "source": [
    "# 格式化字符串\n",
    "first = 'John'\n",
    "last = 'Smith'\n",
    "message = first + '[' + last + '] is a coder ' # 这种连接看不懂\n",
    "msg = f'{first} [{last}] is a coder'  # f'{}'格式化/合并字符串\n",
    "msg = f'{first} {last} is a coder'\n",
    "print(msg)"
   ]
  },
  {
   "cell_type": "markdown",
   "metadata": {},
   "source": [
    "00:40:50  String Methods"
   ]
  },
  {
   "cell_type": "code",
   "execution_count": null,
   "metadata": {},
   "outputs": [],
   "source": [
    "# string methods 可以理解成路径，指向对象内部。\n",
    "course = 'python for beginners'\n",
    "print(len(course)) # print 和 len 属于通用函数。【重要】它们不属于字符串或数字或其他类型的对象。\n",
    "course.upper()\n",
    "print(course.upper()) # 对象后用点运算符.呼出函数计算方法列表。【重要】methods属于某个对象，用于处理某个对象。\n",
    "print(course.find('y')) # find method返回字符串的索引\n",
    "print(course.replace('beginner','Absolute Beginners')) # 注意大小写\n",
    "\n",
    "print('Python' in course) # 利用含in的表达式查询python是否在某个对象中"
   ]
  },
  {
   "cell_type": "markdown",
   "metadata": {},
   "source": [
    "00:48:33  Arithmetic Operations算术运算"
   ]
  },
  {
   "cell_type": "code",
   "execution_count": null,
   "metadata": {},
   "outputs": [],
   "source": [
    "# 算术运算\n",
    "print(10 + 3)\n",
    "print(10 - 3)\n",
    "print(10 * 3)\n",
    "print(10 / 3)\n",
    "print(10 // 3) # 整除\n",
    "print(10 % 3) # 取余\n",
    "print(10 **3) # 指数\n",
    "\n",
    "x = 10\n",
    "x = x + 3\n",
    "x += 3 # 等价于 x = x + 3\n",
    "x -= 3\n",
    "print(x)"
   ]
  },
  {
   "cell_type": "markdown",
   "metadata": {},
   "source": [
    "00:51:33  Operator Precedence运算符优先级"
   ]
  },
  {
   "cell_type": "code",
   "execution_count": null,
   "metadata": {},
   "outputs": [],
   "source": [
    "# Operator Precedence运算符优先级 数学基本问题，没什么好说的，所有编程语言遵守\n",
    "x = (10 + 3) * 2 ** 2\n",
    "print(x)"
   ]
  },
  {
   "cell_type": "markdown",
   "metadata": {},
   "source": [
    "00:55:04  Math Functions"
   ]
  },
  {
   "cell_type": "code",
   "execution_count": null,
   "metadata": {},
   "outputs": [],
   "source": [
    "# Math Functions modules\n",
    "x = 2.9\n",
    "print(round(x)) # 四舍五入\n",
    "print(abs(-2.9)) # 绝对值\n",
    "\n",
    "import math # python很多内置模块，math是其中之一用于数学计算。python文档中可以查看所有内置函数，\n",
    "print(math.ceil(2.9))\n",
    "00:58:17  If Statements"
   ]
  },
  {
   "cell_type": "markdown",
   "metadata": {},
   "source": [
    "00:58:17  If Statements"
   ]
  },
  {
   "cell_type": "code",
   "execution_count": null,
   "metadata": {},
   "outputs": [],
   "source": [
    "is_hot = False\n",
    "is_cold = True\n",
    "if is_hot:\n",
    "    print(\"'It's a hot day\")\n",
    "    print(\"Drink plenty of water\")\n",
    "elif is_cold: # 不要忘记is_cold判断\n",
    "    print(\"'It's a cold day\")\n",
    "    print(\"Wear warm clothes\")\n",
    "else:\n",
    "    print(\"'It's a lovely day\")\n",
    "print(\"Enjoy your day\")\n",
    "\n",
    "# 练习\n",
    "# Price of a house is $1M\n",
    "# if buyer has good credit,\n",
    "#   they need to put down 10%\n",
    "# Otherwise\n",
    "#   they need to put down 20%\n",
    "# print the down payment\n",
    "\n",
    "price = 1000000\n",
    "credit = False\n",
    "if credit:\n",
    "    print(price * 0.9)\n",
    "else:\n",
    "    print(price * 0.8)\n",
    "\n",
    "# MOSH答案\n",
    "price = 1000000\n",
    "has_good_credit = False\n",
    "if has_good_credit:\n",
    "    Down_payment = 0.1 * price\n",
    "else:\n",
    "    Down_payment = 0.2 * price\n",
    "print(f\"Down_payment:${Down_payment}\") # f\"\"合并字符串，加{}引用变量"
   ]
  },
  {
   "cell_type": "markdown",
   "metadata": {},
   "source": [
    "01:06:32  Logical Operators"
   ]
  },
  {
   "cell_type": "code",
   "execution_count": null,
   "metadata": {},
   "outputs": [],
   "source": [
    "# 逻辑运算符 所有语言通用，很简单没什么好说的\n",
    "has_good_credit = True\n",
    "has_good_income = True\n",
    "if has_good_income and has_good_credit:\n",
    "    print(\"Eligible for loan\")\n",
    "if has_good_income or has_good_credit:\n",
    "    print(\"Eligible for loan\")\n",
    "\n",
    "has_good_credit = True\n",
    "has_criminai_record = True\n",
    "if has_good_credit and not has_criminai_record\n",
    "    print(\"Eligible for loan\")"
   ]
  },
  {
   "cell_type": "markdown",
   "metadata": {},
   "source": [
    "01:11:25  Comparison Operators"
   ]
  },
  {
   "cell_type": "code",
   "execution_count": null,
   "metadata": {},
   "outputs": [],
   "source": [
    "# 比较运算符\n",
    "''' \n",
    "if temperature is greater than 30\n",
    "it's a hot day\n",
    "otherwise if it's less than 10\n",
    "it's a cold day\n",
    "it's neither hot nor cold \n",
    "'''\n",
    "\n",
    "temperature = 35\n",
    "if temperature == 30: # 这里可以有> , < , => , =< , ！= ,==等于\n",
    "    print(\"It's a hot day\")\n",
    "else:\n",
    "    print(\"It's a cold day\")\n",
    "\n",
    "# 练习\n",
    "''' \n",
    "if name is less than 3 characters long\n",
    "    name must be at least 3 characters\n",
    "otherwise if it's more than 50 characters long\n",
    "    name can be a maximum of 50 characters\n",
    "otherwise\n",
    "    name looks good! \n",
    "'''\n",
    "\n",
    "name = 'Marsh'\n",
    "if len(name) < 3:\n",
    "    print('name must be at least 3 characters')\n",
    "elif len(name) > 50:\n",
    "    print('name can be a maximum of 50 characters')\n",
    "else:\n",
    "    print(' name looks good! ')\n",
    "01:16:17  Weight Converter Program \n"
   ]
  },
  {
   "cell_type": "markdown",
   "metadata": {},
   "source": [
    "01:16:17  Weight Converter Program "
   ]
  },
  {
   "cell_type": "code",
   "execution_count": null,
   "metadata": {},
   "outputs": [],
   "source": [
    "# Weight Converter Program\n",
    "'''\n",
    "结合目前学到的所有知识，写一个程序，判断用户输入的重量\n",
    "    如果输入的是磅，需要转换成千克并打印出来\n",
    "    如果输入的是千克，则需要转换成磅打印出来\n",
    "'''\n",
    "weight = int(input('weight:'))  #【重要】input返回的是字符串，需要int转换为整数才能计算\n",
    "unit = input('(L)bs or (K)g:')\n",
    "if unit.upper() =='M':  # 【重要】用户输入可能是小写l，使用upper转化为大写\n",
    "                        # 另外需要注意要用==等于运算符，如果用=是赋值\n",
    "                        # 再另外，判断条件用L,M,W都没关系，只要用户能理解就好，\n",
    "                        # 不要被MOSH写的(L)bs or (K)g误导\n",
    "    your_weight = weight * 0.45\n",
    "    print(f\"'your weight is {your_weight} KG\")\n",
    "else:\n",
    "    your_weight = weight / 0.45\n",
    "    print(f\"'your weight is {your_weight} Lbs\")"
   ]
  },
  {
   "cell_type": "markdown",
   "metadata": {},
   "source": [
    "01:20:43  While Loops"
   ]
  },
  {
   "cell_type": "code",
   "execution_count": null,
   "metadata": {},
   "outputs": [],
   "source": [
    "while condition:\n",
    "    \n",
    "i = 1\n",
    "while i <= 5:\n",
    "    print(i)\n",
    "    i = i + 1\n",
    "print('Done')\n",
    "\n",
    "# 让我们更有趣点儿\n",
    "i = 1\n",
    "while i <= 100:\n",
    "    print('*' * i)\n",
    "    i = i + 1\n",
    "print('Done')"
   ]
  },
  {
   "cell_type": "markdown",
   "metadata": {},
   "source": [
    "01:24:07  Building a Guessing Game"
   ]
  },
  {
   "cell_type": "code",
   "execution_count": null,
   "metadata": {},
   "outputs": [],
   "source": [
    "# Building a Guessing Game\n",
    "# 构建一个猜数字游戏，只有三次机会。\n",
    "# secret_number = 9\n",
    "\n",
    "guess_count = 0\n",
    "guess_limit = 3\n",
    "while guess_count < guess_limit:\n",
    "    guess_count = guess_count + 1 \n",
    "    secret_number = int(input('guess'))  #【重要】input返回的是字符串，需要int转换为整数才能计算\n",
    "    if secret_number == 9:\n",
    "        print('you won!')\n",
    "        break # break用于跳出while循环\n",
    "else: print('Sorry , you failed!') # while循环也可以用else\n",
    "01:30:51  Building the Car Game"
   ]
  },
  {
   "cell_type": "markdown",
   "metadata": {},
   "source": [
    "01:30:51  Building the Car Game\n"
   ]
  },
  {
   "cell_type": "code",
   "execution_count": null,
   "metadata": {},
   "outputs": [],
   "source": [
    "'''\n",
    "是时候让你练习目前所学内容了。\n",
    "这次我们要建立一个纸牌游戏，现在我们游戏没有图形用户界面\n",
    "但现在并不重要，我们的重点是建立这个游戏的引擎，让我们看看它如何工作的。\n",
    "1.输入help\n",
    "start - to start the car\n",
    "stop - to stop the car\n",
    "quit - to exit\n",
    "2.输入asd   I don't understand that ...\n",
    "3.输入start   Car started...Ready to go!\n",
    "4.输入stop    Car stopped.\n",
    "5.输入quit\n",
    "'''\n",
    "# 方法一，利用input和==判定------------------------------------------------------------\n",
    "command = \"\" # 定义一个空变量用来命令用户输入的内容，只要命令不等于退出就循环。\n",
    "             # 空字符串是没有字符的字符串？？？只有引用作用。\n",
    "while command != 'quit':\n",
    "    command = input(\"> \").lower() # .lower全部转成小写\n",
    "\n",
    "    if command == \"start\":\n",
    "        print(\"Car started...Ready to go!\")\n",
    "\n",
    "    elif command == \"stop\":\n",
    "        print(\"Car stopped.\")\n",
    "\n",
    "    elif command == \"help\":\n",
    "        print('''\n",
    "start - to start the car\n",
    "stop - to stop the car\n",
    "quit - to exit\n",
    "              ''')\n",
    "\n",
    "    elif command == \"quit\":\n",
    "        break\n",
    "else:\n",
    "    print(\" I don't understand that ...\")\n",
    "\n",
    "# 利用车开不开的状态作为布尔值来判断------------------------------------------------------------\n",
    "command = \"\"\n",
    "started = False\n",
    "while True: # 当车已经开了 定义了started = Ture\n",
    "    command = input(\"> \").lower()  # .lower全部转成小写\n",
    "\n",
    "    if command == \"start\":\n",
    "        if started: # 检查汽车是否启动，如果没有，我们启动它\n",
    "            print(\"Car started...Ready to go!\")\n",
    "        else:\n",
    "            started = True # 如果车是开着的，告诉我们车已经开了。所以上下两条语句不是相对关系，是互补关系。\n",
    "            print(\"Car started...\")\n",
    "\n",
    "    elif command == \"stop\":\n",
    "        if not started: # 如果车是停着着的\n",
    "            print(\"Car is already stopped!\")\n",
    "        else:\n",
    "            started = False # 如果是开着的,就把它停下来\n",
    "            print(\"Car stopped.\")  # 【这四条语句将车开，车停情况下操作车,全部包含，所以可以无限循环】\n",
    "    elif command == \"help\":\n",
    "         print('''\n",
    "                start - to start the car\n",
    "                stop - to stop the car\n",
    "                quit - to exit\n",
    "              ''')\n",
    "\n",
    "    elif command == \"quit\":\n",
    "        break\n",
    "    else: # else结束while循环应该缩进\n",
    "        print(\" I don't understand that ...\")"
   ]
  },
  {
   "cell_type": "markdown",
   "metadata": {},
   "source": [
    "01:41:48  For Loops"
   ]
  },
  {
   "cell_type": "code",
   "execution_count": null,
   "metadata": {},
   "outputs": [],
   "source": [
    "#  01:41:48  For Loops\n",
    "# 利用for循环来迭代集合的项目，例如字符串。因为字符串是一个字符序列，所以看起来像一个集合。\n",
    "# 所以可以利用for循环遍历a中每个字符\n",
    "for item in 'Python':\n",
    "    print(item)\n",
    "\n",
    "for item in ['Mosh','John','Sara']: # 用[]定义一个列表\n",
    "    print(item)\n",
    "\n",
    "for item in [1,2,3,4]: # 用[]定义一个列表\n",
    "    print(item)\n",
    "\n",
    "for item in range(7,100): # 用range()创建一个范围\n",
    "    print(item)\n",
    "\n",
    "for item in range(7,100,10): # 用range()创建一个范围,第三个参数是步长\n",
    "    print(item)\n",
    "\n",
    "# 练习来了\n",
    "''' \n",
    "计算购物车中商品的总成本\n",
    "price = [10,20,30]\n",
    "'''\n",
    "\n",
    "prices = [10,20,30]\n",
    "total = 0 # 要定义一个新的变量用来进行循环累加\n",
    "for price in prices:\n",
    "    total = total + price\n",
    "print(f\"Total:{total}\") # 打印循环之后的total\n",
    "# python缩进不同，语义也不同，就像上下两段代码含义不一样。\n",
    "# python缩进跟谁对齐就是衔接谁的。\n",
    "prices = [10,20,30]\n",
    "total = 0\n",
    "for price in prices:\n",
    "    total = total + price\n",
    "    print(f\"Total:{total}\") # 打印循环之中的每个total"
   ]
  },
  {
   "cell_type": "markdown",
   "metadata": {},
   "source": [
    "01:47:46  Nested Loops嵌套循环"
   ]
  },
  {
   "cell_type": "code",
   "execution_count": null,
   "metadata": {},
   "outputs": [],
   "source": [
    "#  01:47:46  Nested Loops嵌套循环\n",
    "# 一个循环嵌套到另一个循环中可以轻松生成坐标列表。\n",
    "for x in range(4):\n",
    "    y = 4\n",
    "    print(f\"{x},{y}\")\n",
    "# -----相当于把y = 4变成了表达式---------\n",
    "for x in range(4):\n",
    "    for y in range(3): # 内循环\n",
    "        print(f\"{x},{y}\")"
   ]
  },
  {
   "cell_type": "code",
   "execution_count": null,
   "metadata": {},
   "outputs": [],
   "source": [
    "# 挑战性练习来了，迄今为止最有难度的，MOSH不要求你做到，如果你做到了，他会为你感到骄傲的。\n",
    "# 给定条件 numbers = [5,2,5,2,2] 根据数字绘制一个F形状\n",
    "numbers = [5,2,5,2,2]\n",
    "for item in numbers:\n",
    "    print('😢' * int(item))\n",
    "# 这未免太简单了吧？来看MOSH怎么做的。\n",
    "# MOSH说我在作弊，他希望我使用内循环来做。😢😢😢\n",
    "numbers = [5,2,5,2,2]\n",
    "for x_count in numbers: # 使用for循环遍历整个列表 生成一个包含5个x的字符串\n",
    "    output = ''\n",
    "    for count in range(x_count):\n",
    "       output = output + '🎃'\n",
    "    print(output)\n",
    "# 这也太难了吧？MOSH怎么做到的。"
   ]
  },
  {
   "cell_type": "markdown",
   "metadata": {},
   "source": []
  },
  {
   "cell_type": "code",
   "execution_count": 21,
   "metadata": {},
   "outputs": [
    {
     "name": "stdout",
     "output_type": "stream",
     "text": [
      "11\n"
     ]
    }
   ],
   "source": [
    "l = 1\n",
    "s = l * 11\n",
    "print(s)"
   ]
  }
 ],
 "metadata": {
  "interpreter": {
   "hash": "aee8b7b246df8f9039afb4144a1f6fd8d2ca17a180786b69acc140d282b71a49"
  },
  "kernelspec": {
   "display_name": "Python 3.10.4 64-bit",
   "language": "python",
   "name": "python3"
  },
  "language_info": {
   "codemirror_mode": {
    "name": "ipython",
    "version": 3
   },
   "file_extension": ".py",
   "mimetype": "text/x-python",
   "name": "python",
   "nbconvert_exporter": "python",
   "pygments_lexer": "ipython3",
   "version": "3.10.4"
  },
  "orig_nbformat": 4
 },
 "nbformat": 4,
 "nbformat_minor": 2
}
